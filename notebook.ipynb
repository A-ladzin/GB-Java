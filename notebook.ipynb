{
 "cells": [
  {
   "cell_type": "code",
   "execution_count": 19,
   "metadata": {},
   "outputs": [],
   "source": [
    "class Vector:\n",
    "    def __init__(self, x):\n",
    "        self.coords = x\n",
    "\n",
    "    def __add__(self,other):\n",
    "        if len(self.coords) != len(other.coords):\n",
    "            raise ValueError(f\"left and right lengths differ: {len(self.coords)} != {len(other.coords)}\")\n",
    "        return Vector([sum(i) for i in zip(self.coords,other.coords)])\n"
   ]
  },
  {
   "cell_type": "code",
   "execution_count": 36,
   "metadata": {},
   "outputs": [],
   "source": [
    "v1 = Vector([1,2])\n",
    "v2 = Vector([3,4])"
   ]
  },
  {
   "cell_type": "code",
   "execution_count": 21,
   "metadata": {},
   "outputs": [
    {
     "data": {
      "text/plain": [
       "[1, 2]"
      ]
     },
     "execution_count": 21,
     "metadata": {},
     "output_type": "execute_result"
    }
   ],
   "source": [
    "v1.coords"
   ]
  },
  {
   "cell_type": "code",
   "execution_count": 77,
   "metadata": {},
   "outputs": [],
   "source": [
    "import numpy as np\n",
    "class Vector:\n",
    "    def __init__(self, x):\n",
    "        self.coords = x\n",
    "\n",
    "    def __add__(self,other):\n",
    "        if len(self.coords) != len(other.coords):\n",
    "            raise ValueError(f\"left and right lengths differ: {len(self.coords)} != {len(other.coords)}\")\n",
    "        return Vector([sum(i) for i in zip(self.coords,other.coords)])\n",
    "\n",
    "    def __repr__(self):\n",
    "        s = \"\"\n",
    "        for i in self.coords[:-1]:\n",
    "            s+= (f'{i}, ')\n",
    "        s+= str(self.coords[-1])\n",
    "        return s\n",
    "\n",
    "    def __str__(self):\n",
    "        return str(self.coords)\n",
    "\n",
    "    def __mul__(self,other):\n",
    "        if isinstance(other, Vector):\n",
    "            if len(self.coords) != len(other.coords):\n",
    "                raise ValueError(f\"left and right lengths differ: {len(self.coords)} != {len(other.coords)}\")\n",
    "            return np.dot(self.coords,other.coords)\n",
    "\n",
    "        elif isinstance(other, float) or isinstance(other, int):\n",
    "            return Vector([i*other for i in self.coords])\n",
    "        else:\n",
    "            raise ValueError()\n",
    "\n",
    "    def __eq__(self,other):\n",
    "        return self.coords == other.coords\n",
    "\n",
    "    def __abs__(self):\n",
    "        return sum(np.array(self.coords)**2)**0.5\n",
    "\n"
   ]
  },
  {
   "cell_type": "code",
   "execution_count": 80,
   "metadata": {},
   "outputs": [],
   "source": [
    "v1 = Vector([-12,5])\n",
    "v2 = Vector([3,4])"
   ]
  },
  {
   "cell_type": "code",
   "execution_count": 76,
   "metadata": {},
   "outputs": [
    {
     "data": {
      "text/plain": [
       "array([1, 4])"
      ]
     },
     "execution_count": 76,
     "metadata": {},
     "output_type": "execute_result"
    }
   ],
   "source": [
    "np.array(v1.coords)**2"
   ]
  },
  {
   "cell_type": "code",
   "execution_count": 109,
   "metadata": {},
   "outputs": [],
   "source": [
    "\n",
    "class ParsesCookies:\n",
    "\n",
    "    def cookies(self):\n",
    "        return self.request['cookies']\n",
    "\n",
    "    def is_authed(self):\n",
    "        return 'auth_key' in self.request['cookies']\n",
    "\n",
    "\n",
    "class ParsesBody:\n",
    "    def body(self):\n",
    "        return self.request['body']\n",
    "\n",
    "\n",
    "class ParsesHeaders:\n",
    "    def headers(self):\n",
    "        return self.request['headers']\n",
    "\n",
    "    def need_json(self):\n",
    "        return self.request['headers']['content-type'] == \"application/json\"\n",
    "    \n",
    "    \n",
    "\n",
    "import json\n",
    "\n",
    "class JsonHandler(ParsesBody,ParsesHeaders):\n",
    "    def __init__(self,request):\n",
    "        self.request = request\n",
    "\n",
    "    def process(self):\n",
    "        if self.need_json() == False:\n",
    "            return None\n",
    "        try:\n",
    "            return len(json.loads(self.body()))\n",
    "        except:\n",
    "            return None\n"
   ]
  },
  {
   "cell_type": "code",
   "execution_count": 102,
   "metadata": {},
   "outputs": [],
   "source": [
    "class Handler(ParsesHeaders):\n",
    "    def __init__(self,r):\n",
    "        self.request = r"
   ]
  },
  {
   "cell_type": "code",
   "execution_count": 106,
   "metadata": {},
   "outputs": [],
   "source": [
    "# будет приходить запрос в виде словаря\n",
    "request = {\n",
    "  \"cookies\": {\"1\":\"2\"},\n",
    "  \"body\": \"a long time ago, in a Galaxy far, far away\",\n",
    "  \"headers\": {\"content-type\": \"application/json\", \"Accept\": \"application/json\"}\n",
    "}\n",
    "\n",
    "# и этот словарь будет передаваться в конструктор класса\n",
    "handler = JsonHandler(request)\n",
    "\n"
   ]
  },
  {
   "cell_type": "code",
   "execution_count": 108,
   "metadata": {},
   "outputs": [
    {
     "name": "stdout",
     "output_type": "stream",
     "text": [
      "2\n"
     ]
    }
   ],
   "source": [
    "# Пример использования\n",
    "r = {'body': '{\"a\": 123, \"b\": 1234}',\n",
    "     'headers': {'content-type': 'application/json'}\n",
    "    }\n",
    "print(JsonHandler(r).process())"
   ]
  }
 ],
 "metadata": {
  "kernelspec": {
   "display_name": "Python 3",
   "language": "python",
   "name": "python3"
  },
  "language_info": {
   "codemirror_mode": {
    "name": "ipython",
    "version": 3
   },
   "file_extension": ".py",
   "mimetype": "text/x-python",
   "name": "python",
   "nbconvert_exporter": "python",
   "pygments_lexer": "ipython3",
   "version": "3.12.0"
  }
 },
 "nbformat": 4,
 "nbformat_minor": 2
}
